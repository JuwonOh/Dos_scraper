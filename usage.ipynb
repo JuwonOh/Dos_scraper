{
 "cells": [
  {
   "cell_type": "code",
   "execution_count": 1,
   "metadata": {
    "scrolled": true
   },
   "outputs": [
    {
     "name": "stdout",
     "output_type": "stream",
     "text": [
      "get briefing statement urls 2018 / 2019\n",
      "1790 urls for all news\n"
     ]
    }
   ],
   "source": [
    "import time\n",
    "import DoS_scraper\n",
    "from DoS_scraper import get_allnews_urls\n",
    "from DoS_scraper import parse_page\n",
    "from DoS_scraper import get_soup\n",
    "\n",
    "DoS_urls = get_allnews_urls(begin_year=2018, end_year=2019, verbose=True)\n",
    "print('%d urls for all news' % len(DoS_urls))\n"
   ]
  },
  {
   "cell_type": "code",
   "execution_count": 2,
   "metadata": {
    "scrolled": true
   },
   "outputs": [
    {
     "name": "stdout",
     "output_type": "stream",
     "text": [
      "title : Attack in Giza ..\n",
      "time : December 28, 2018 ..\n",
      "content : \n",
      "The United States strongly condemns the attack carried out today on a tourist bus in Giza. Our deep ..\n",
      "url : https://www.state.gov/r/pa/prs/ps/2018/12/288285.htm ..\n",
      "scrap_time : 2019-02-01-04 08:14:27 ..\n",
      "\n",
      "\n",
      "title : Israel's Right to Self-Defense ..\n",
      "time : December 28, 2018 ..\n",
      "content : \n",
      "The United States fully supports Israel’s right to defend itself against Iranian regional actions t ..\n",
      "url : https://www.state.gov/r/pa/prs/ps/2018/12/288282.htm ..\n",
      "scrap_time : 2019-02-01-04 08:14:27 ..\n",
      "\n",
      "\n",
      "title : Secretary Pompeo Travels to Brazil and Colombia To Strengthen Prosperity, Security, and Democracy ..\n",
      "time : December 28, 2018 ..\n",
      "content : \n",
      "Secretary Pompeo is leading a Presidential Delegation to Brazil for the inauguration of President-e ..\n",
      "url : https://www.state.gov/r/pa/prs/ps/2018/12/288281.htm ..\n",
      "scrap_time : 2019-02-01-04 08:14:28 ..\n",
      "\n",
      "\n",
      "title : Senior State Department Official Previewing Secretary Pompeo's Upcoming Travel to Brazil and Colombi ..\n",
      "time : December 28, 2018 ..\n",
      "content : \n",
      "MODERATOR: Thank you, and good morning, everyone. Thank you for joining us. Welcome to this backgro ..\n",
      "url : https://www.state.gov/r/pa/prs/ps/2018/12/288283.htm ..\n",
      "scrap_time : 2019-02-01-04 08:14:28 ..\n",
      "\n",
      "\n",
      "title : Secretary Pompeo's Trip to Brazil and Colombia ..\n",
      "time : December 27, 2018 ..\n",
      "content : \n",
      "U.S. Secretary of State Michael R. Pompeo will travel to Brazil and Colombia from December 31-Janua ..\n",
      "url : https://www.state.gov/r/pa/prs/ps/2018/12/288279.htm ..\n",
      "scrap_time : 2019-02-01-04 08:14:28 ..\n",
      "\n",
      "\n"
     ]
    }
   ],
   "source": [
    "def pprint(json_object):\n",
    "    for k, v in json_object.items():\n",
    "        print('{} : {} ..'.format(k, str(v)[:100]))\n",
    "    print('\\n')\n",
    "\n",
    "SLEEP = 0.5\n",
    "\n",
    "for url in DoS_urls[:5]:\n",
    "    json_object = parse_page(url)\n",
    "    pprint(json_object)"
   ]
  },
  {
   "cell_type": "code",
   "execution_count": 4,
   "metadata": {},
   "outputs": [
    {
     "name": "stdout",
     "output_type": "stream",
     "text": [
      "[1 / 50] (January 31, 2019) Secretary Pompeo To Deliver Remarks to the Media in the Press Briefing Room\n",
      "[2 / 50] (January 31, 2019) Secretary Pompeo's Call With Canadian Foreign Minister Chrystia Freeland\n",
      "[3 / 50] (January 31, 2019) Secretary Pompeo's Call With UN Special Envoy of the Secretary-General for Yemen Martin Griffiths\n",
      "[4 / 50] (January 31, 2019) Special Representative Biegun Travel to the Republic of Korea\n",
      "[5 / 50] (January 30, 2019) Interview With Sean Hannity of Fox News\n",
      "[6 / 50] (January 30, 2019) Secretary Pompeo's Meeting With Australia Foreign Minister Marise Payne\n",
      "[7 / 50] (January 30, 2019) Under Secretary of State for Arms Control and International Security Thompson Travels to China and Japan\n",
      "[8 / 50] (January 29, 2019) Ambassador Nathan A. Sales Travels to Denmark, Sweden, and Norway To Discuss Counterterrorism Cooperation\n",
      "[9 / 50] (January 29, 2019) Joint Communique on the U.S.-Algeria Strategic Dialogue\n",
      "[10 / 50] (January 29, 2019) Meeting of Foreign Ministers of the Global Coalition to Defeat ISIS\n",
      "[11 / 50] (January 29, 2019) Protecting Venezuela's Assets for Benefit of Venezuelan People\n",
      "[12 / 50] (January 29, 2019) Sentencing of Wang Quanzhang\n",
      "[13 / 50] (January 29, 2019) Under Secretary Hale's Travel to Canada for U.S.-Canada High-Level Policy Review Group\n",
      "[14 / 50] (January 28, 2019) Nauru National Day\n",
      "[15 / 50] (January 28, 2019) Sanctions Against PDVSA and Venezuela Oil Sector\n",
      "[16 / 50] (January 28, 2019) Special Representative for North Korea Stephen Biegun Travels to Palo Alto, California\n",
      "[17 / 50] (January 28, 2019) U.S. Condolences on Burst Dam in Brazil\n",
      "[18 / 50] (January 27, 2019) Representative of the Government of Venezuela to the United States\n",
      "[19 / 50] (January 26, 2019) Remarks Before a Procedural Vote at a UN Security Council Meeting on Venezuela\n",
      "[20 / 50] (January 26, 2019) Remarks at a Press Stakeout\n",
      "[21 / 50] (January 26, 2019) Remarks at a United Nations Security Council Meeting on Venezuela\n",
      "[22 / 50] (January 25, 2019) Details on the \"Ministerial To Promote a Future of Peace and Security in the Middle East\"\n",
      "[23 / 50] (January 25, 2019) Greece Ratifies Prespa Agreement\n",
      "[24 / 50] (January 25, 2019) Interview With Gustau Alegret of NTN24\n",
      "[25 / 50] (January 25, 2019) Secretary Pompeo To Deliver Remarks to the Media in the Press Briefing Room\n",
      "[26 / 50] (January 25, 2019) Secretary Pompeo Travel to New York City\n",
      "[27 / 50] (January 24, 2019) Interview With Laura Ingraham of The Laura Ingraham Show Podcast\n",
      "[28 / 50] (January 24, 2019) Remarks at the Organization of American States\n",
      "[29 / 50] (January 24, 2019) Secretary Pompeo's Meeting With U.K. Foreign Secretary Jeremy Hunt\n",
      "[30 / 50] (January 24, 2019) United States Is Ready To Provide Urgent Humanitarian Aid to the People of Venezuela\n",
      "[31 / 50] (January 23, 2019) Continuing U.S. Diplomatic Presence in Venezuela\n",
      "[32 / 50] (January 23, 2019) Deputy Secretary Sullivan's Meeting With Foreign Minister Carl Greenidge of Guyana\n",
      "[33 / 50] (January 23, 2019) Interview With Martha MacCallum of Fox News\n",
      "[34 / 50] (January 23, 2019) Recognition of Juan Guaido as Venezuela's Interim President\n",
      "[35 / 50] (January 23, 2019) U.S. Concern Over Sudanese Government Response to Protests\n",
      "[36 / 50] (January 23, 2019) U.S. Response to Constitutional Court Decision in the Democratic Republic of the Congo\n",
      "[37 / 50] (January 22, 2019) Remarks to the World Economic Forum\n",
      "[38 / 50] (January 22, 2019) Secretary Pompeo's Call With Hungarian Prime Minister Viktor Orban\n",
      "[39 / 50] (January 21, 2019) Secretary Pompeo's Call With Republic of Korea Foreign Minister Kang\n",
      "[40 / 50] (January 21, 2019) Secretary Pompeo's Call With Turkish Foreign Minister Mevlut Cavusoglu\n",
      "[41 / 50] (January 21, 2019) Secretary Pompeo's Phone Call With Japanese Foreign Minister Kono\n",
      "[42 / 50] (January 19, 2019) Congratulatory Statement on Madagascar's Presidential Election\n",
      "[43 / 50] (January 18, 2019) Secretary Pompeo's Call With Colombian President Ivan Duque\n",
      "[44 / 50] (January 18, 2019) Secretary Pompeo's Meeting With DPRK Vice Chairman Kim Yong Chol\n",
      "[45 / 50] (January 18, 2019) Secretary of State Michael R. Pompeo With Scott Thuman of Sinclair Broadcast Group\n",
      "[46 / 50] (January 17, 2019) Attacks on LGBTI Community in Chechnya\n",
      "[47 / 50] (January 16, 2019) Secretary Pompeo's Call With Canadian Foreign Minister Chrystia Freeland\n",
      "[48 / 50] (January 16, 2019) Secretary's Determination of 45-Day Suspension Under Title III of LIBERTAD Act\n",
      "[49 / 50] (January 16, 2019) Terrorist Attack in Nairobi, Kenya\n",
      "[50 / 50] (January 16, 2019) U.S. Commitment to Religious Freedom\n"
     ]
    }
   ],
   "source": [
    "from DoS_scraper import yield_latest_allnews\n",
    "\n",
    "begin_date = '2018-12-01'\n",
    "max_num = 50\n",
    "sleep = 1.0\n",
    "\n",
    "for i, json_obj in enumerate(yield_latest_allnews(begin_date, max_num, sleep)):\n",
    "    title = json_obj['title']\n",
    "    time = json_obj['time']\n",
    "    print('[{} / {}] ({}) {}'.format(i+1, max_num, time, title))"
   ]
  }
 ],
 "metadata": {
  "kernelspec": {
   "display_name": "Python 3",
   "language": "python",
   "name": "python3"
  },
  "language_info": {
   "codemirror_mode": {
    "name": "ipython",
    "version": 3
   },
   "file_extension": ".py",
   "mimetype": "text/x-python",
   "name": "python",
   "nbconvert_exporter": "python",
   "pygments_lexer": "ipython3",
   "version": "3.6.5"
  },
  "varInspector": {
   "cols": {
    "lenName": 16,
    "lenType": 16,
    "lenVar": 40
   },
   "kernels_config": {
    "python": {
     "delete_cmd_postfix": "",
     "delete_cmd_prefix": "del ",
     "library": "var_list.py",
     "varRefreshCmd": "print(var_dic_list())"
    },
    "r": {
     "delete_cmd_postfix": ") ",
     "delete_cmd_prefix": "rm(",
     "library": "var_list.r",
     "varRefreshCmd": "cat(var_dic_list()) "
    }
   },
   "oldHeight": 122.545454,
   "position": {
    "height": "144px",
    "left": "1021.45px",
    "right": "20px",
    "top": "89px",
    "width": "249px"
   },
   "types_to_exclude": [
    "module",
    "function",
    "builtin_function_or_method",
    "instance",
    "_Feature"
   ],
   "varInspector_section_display": "block",
   "window_display": true
  }
 },
 "nbformat": 4,
 "nbformat_minor": 2
}
