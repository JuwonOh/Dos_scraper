{
 "cells": [
  {
   "cell_type": "code",
   "execution_count": 1,
   "metadata": {
    "scrolled": true
   },
   "outputs": [
    {
     "name": "stdout",
     "output_type": "stream",
     "text": [
      "get briefing statement urls 2018 / 2019\n",
      "1790 urls for all news\n"
     ]
    }
   ],
   "source": [
    "import time\n",
    "import DoS_scraper\n",
    "from DoS_scraper import get_allnews_urls\n",
    "from DoS_scraper import parse_page\n",
    "from DoS_scraper import get_soup\n",
    "\n",
    "DoS_urls = get_allnews_urls(begin_year=2018, end_year=2019, verbose=True)\n",
    "print('%d urls for all news' % len(DoS_urls))\n"
   ]
  },
  {
   "cell_type": "code",
   "execution_count": 9,
   "metadata": {},
   "outputs": [],
   "source": [
    "from DoS_scraper import get_soup\n",
    "from DoS_scraper import parse_page\n",
    "soup = get_soup('https://www.state.gov/r/pa/prs/ps/2019/02/288828.htm')\n"
   ]
  },
  {
   "cell_type": "code",
   "execution_count": 15,
   "metadata": {},
   "outputs": [
    {
     "data": {
      "text/plain": [
       "{'title': 'List of Participants: Meeting of the Global Coalition To Defeat ISIS',\n",
       " 'time': 'February 6, 2019',\n",
       " 'content': '\\nAFGHANISTAN\\n\\n\\n Her Excellency Roya Rahmani\\n Ambassador of Afghanistan to the United States\\n\\n\\n \\n\\n\\nALBANIA\\n\\n\\n His Excellency Gent Cakaj\\n Acting Minister for Europe and Foreign Affairs\\n\\n\\n \\n\\n\\nAUSTRALIA\\n\\n\\n Mr. Anthony Sheehan\\nDeputy Secretary, Department of Foreign Affairs and Trade\\n\\n\\n \\n\\n\\nAUSTRIA\\n\\n\\n Mr. Gerhard Alois Maynhardt\\nMinister Plenipotentiary, Federal Ministry for Europe, Integration, and Foreign Affairs\\n\\n\\n \\n\\n\\nBAHRAIN\\n\\n\\n His Excellency Khalid Ahmed Al Khalifa\\n Minister of Foreign Affairs\\n\\n\\n \\n\\n\\nBELGIUM\\n\\n\\n His Excellency Axel Kenes\\n Vice Minister for Political Affairs\\n\\n\\n \\n\\n\\nBOSNIA AND HERZEGOVINA\\n\\n\\n His Excellency Igor Crnadak\\n Minister of Foreign Affairs\\n\\n\\n \\n\\n\\nBULGARIA\\n\\n\\n His Excellency Tihomir Stoytchev\\nAmbassador of Bulgaria to the United States\\n\\n\\n \\n\\n\\nCAMEROON\\n\\n\\n His Excellency Felix Mbayu\\n Minister Delegate in Charge of Cooperation with the Commonwealth\\n\\n\\n \\n\\n\\n \\n\\n\\nCANADA\\n\\n\\n Her Excellency Chrystia Freeland\\n Minister of Foreign Affairs\\n\\n\\n \\n\\n\\nCHAD\\n\\n\\n His Excellency Koutou Ngote Gali\\nAmbassador of Chad to the United States\\n\\n\\n \\n\\n\\nCROATIA\\n\\n\\n Ms. Zdravka Busic\\nDeputy Minister of Foreign and European Affairs\\n\\n\\n \\n\\n\\nCYPRUS\\n\\n\\nHis Excellency Andreas Kakouris\\nDirector of Middle East and Africa, Ministry of Foreign Affairs\\n\\n\\n \\n\\n\\nCZECH REPUBLIC\\n\\n\\n His Excellency Martin Povejsil\\nDeputy Minister of Foreign Affairs for Security and Multilateral Issues\\n\\n\\n \\n\\n\\nDENMARK\\n\\n\\n His Excellency Anders Samuelsen\\xa0\\nMinister for Foreign Affairs\\n\\n\\n \\n\\n\\nDJIBOUTI\\n\\n\\n The Honorable Hassan Mohamed\\nMinister of Interior\\n\\n\\n \\n\\n\\nEGYPT\\n\\n\\n His Excellency Yasser Reda Abdalla Ali Said\\nAmbassador of Egypt to the United States\\n\\n\\n \\n\\n\\nESTONIA\\n\\n\\n His Excellency Sven Mikser\\nMinister of Foreign Affairs\\n\\n\\n \\n\\n\\nETHIOPIA\\n\\n\\n His Excellency Markos Tekle Rike\\nState Minister of Foreign Affairs\\n\\n\\n \\n\\n\\nEUROPEAN UNION\\n\\n\\n Mr. Jean-Christophe Belliard\\nDeputy Secretary General for Political Affairs, Political Director\\n\\n\\n \\n\\n\\nFIJI\\n\\n\\n His Excellency Solo Mara\\nAmbassador of Fiji to the United States\\n\\n\\n \\n\\n\\nFINLAND\\n\\n\\n His Excellency Timo Juhani Soini\\nMinister for Foreign Affairs\\n\\n\\n \\n\\n\\nFRANCE\\n\\n\\n His Excellency Jean-Yves Le Drian\\nMinister of Europe and Foreign Affairs\\n\\n\\n \\n\\n\\nGEORGIA\\n\\n\\n His Excellency David Zalkaliani\\nMinister of Foreign Affairs\\n\\n\\n \\n\\n\\nGERMANY\\n\\n\\n His Excellency Heiko Maas\\nFederal Minister for Foreign Affairs\\n\\n\\n \\n\\n\\nGREECE\\n\\n\\n His Excellency Theocharis “Haris” Lalacos\\nAmbassador of Greece to the United States\\n\\n\\n \\n\\n\\nGUINEA\\n\\n\\n His Excellency Dr. Mohamed Diane\\nMinister of State for Presidential Affairs and Minister of National Defense\\n\\n\\n \\n\\n\\nHUNGARY\\n\\n\\n His Excellency Péter Szijjártó\\nMinister of Foreign Affairs and Trade\\n\\n\\n \\n\\n\\nICELAND\\n\\n\\n Mr. Hreinn Palsson\\nChargé d’Affaires, Embassy of Iceland\\n\\n\\n \\n\\n\\nINTERPOL\\n\\n\\n Mr. Patrick Hubert Stevens\\nDirector of Counter-Terrorism\\n\\n\\n \\n\\n\\nIRAQ\\n\\n\\n His Excellency Mohamed A. Alhakim\\nMinister of Foreign Affairs\\n\\n\\n \\n\\n\\nIRELAND\\n\\n\\n His Excellency Simon Coveney\\nTánaiste, Deputy Prime Minister and Minister for Foreign Affairs and Trade\\n\\n\\n \\n\\n\\nITALY\\n\\n\\n His Excellency Sebastiano Cardi\\nDirector General for Political Affairs\\n\\n\\n \\n\\n\\nJAPAN\\n\\n\\n Mr. Keiichi Ichikawa\\nPolitical Minister of the Embassy of Japan\\n\\n\\n \\n\\n\\nJORDAN\\n\\n\\n His Excellency Ayman Safadi\\nMinister of Foreign Affairs and Expatriates\\n\\n\\n \\n\\n\\nKENYA\\n\\n\\n The Honorable Ababu Namwamba\\nChief Administrative Secretary, Ministry of Foreign Affairs\\n\\n\\n \\n\\n\\nKOREA\\n\\n\\n Mr. Woongsoon Lim\\nDeputy Chief of Mission, Embassy of the Republic of Korea\\n\\n\\n \\n\\n\\nKOSOVO\\n\\n\\n His Excellency Behgjet Pacolli\\nDeputy Prime Minister and Minister of Foreign Affairs\\n\\n\\n \\n\\n\\nKUWAIT\\n\\n\\n His Excellency Nasser Alsabeeh\\nAssistant to the Minister for Development and International Cooperation\\n\\n\\n \\n\\n\\nLATVIA\\n\\n\\n His Excellency Edgars Rinkevics\\nMinister of Foreign Affairs\\n\\n\\n \\n\\n\\nLEAGUE OF ARAB STATES\\n\\n\\n His Excellency Salah Sarhan\\nChief Representative to the League of Arab States Mission\\n\\n\\n \\n\\n\\nLEBANON\\n\\n\\n The Honorable Elias Bou Saab\\nMinister of Defense\\n\\n\\n \\n\\n\\nLIBYA\\n\\n\\n His Excellency Mohamed Syala\\nMinister of Foreign Affairs\\n\\n\\n \\n\\n\\nLITHUANIA\\n\\n\\n The Honorable Linas Antanas Linkevicius\\nMinister of Foreign Affairs\\n\\n\\n \\n\\n\\nLUXEMBOURG\\n\\n\\n Her Excellency Sylvie Lucas\\nAmbassador of the Grand Duchy of Luxembourg to the United States\\n\\n\\n \\n\\n\\nMACEDONIA\\n\\n\\n Mr. Iliver Krliu\\nDirector at the Ministry of Foreign Affairs\\n\\n\\n \\n\\n\\nMALAYSIA\\n\\n\\n Ms. Murni Abdul Hamid\\nChargé d’Affaires, Embassy of Malaysia\\n\\n\\n \\n\\n\\nMOLDOVA\\n\\n\\n His Excellency Tudor Ulianovschi\\nMinister of Foreign Affairs and European Integration\\n\\n\\n \\n\\n\\nMONTENEGRO\\n\\n\\n His Excellency Sr?an Darmanovi?\\nMinister of Foreign Affairs\\n\\n\\n \\n\\n\\nMOROCCO\\n\\n\\n His Excellency Nasser Bourita\\nMinister of Foreign Affairs and International Cooperation\\n\\n\\n \\n\\n\\nNATO\\n\\n\\n Dr. John Manza\\nAssistant Secretary General for Operations\\n\\n\\n \\n\\n\\nNETHERLANDS\\n\\n\\n His Excellency Stef Blok\\nMinister of Foreign Affairs\\n\\n\\n \\n\\n\\nNEW ZEALAND\\n\\n\\n Her Excellency Rosemary Banks\\nAmbassador of New Zealand to the United States\\n\\n\\n \\n\\n\\nNIGER\\n\\n\\n His Excellency Moutari Kalla\\nMinister of Defense\\n\\n\\n \\n\\n\\nNIGERIA\\n\\n\\n Mr. Gambo Yusuf Hamza\\nPolitical Ministier, Embassy of Nigeria\\n\\n\\n \\n\\n\\nNORWAY\\n\\n\\n Her Excellency Ine Marie Eriksen Søreide\\nMinister of Foreign Affairs\\n\\n\\n \\n\\n\\nOMAN\\n\\n\\n Her Excellency Hunaina Sultan Ahmed Al Mughairy\\nAmbassador of Sultanate of Oman to the United States\\n\\n\\n \\n\\n\\nPANAMA\\n\\n\\n Her Excellency Isabel de Saint Malo de Alvarado\\nVice-President and Minister of Foreign Affairs\\n\\n\\n \\n\\n\\nPHILIPPINES\\n\\n\\n His Excellency Jose Manuel Romualdez\\nAmbassador of the Philippines to the United States\\n\\n\\n \\n\\n\\nPOLAND\\n\\n\\n His Excellency Jacek Krzysztof Czaputowicz\\nMinister of Foreign Affairs\\n\\n\\n \\n\\n\\nPORTUGAL\\n\\n\\n His Excellency Domingos Teixeira de Abreu Fezas Vital\\nAmbassador of Portugal to the United States\\n\\n\\n \\n\\n\\nQATAR\\n\\n\\n His Excellency Mohammed Abdulrahman Al-Thani\\nDeputy Prime Minister and Minister of Foreign Affairs\\n\\n\\n \\n\\n\\nROMANIA\\n\\n\\n Her Excellency Ana Birchall\\nDeputy Prime Minister for Romania’s Strategic Partnerships and Implementation\\n\\n\\n \\n\\n\\nSAUDI ARABIA\\n\\n\\n His Excellency Adel Al-Jubeir\\nMinister of State and Foreign Affairs\\n\\n\\n \\n\\n\\nSERBIA\\n\\n\\n His Excellency Ivica Da?i?\\nFirst Deputy Prime Minister and Minister of Foreign Affairs\\n\\n\\n \\n\\n\\nSINGAPORE\\n\\n\\n Dr. Mohamad Maliki Osman\\nSenior Minister of State, Ministry of Defense and Ministry of Foreign Affairs\\n\\n\\n \\n\\n\\nSLOVAKIA\\n\\n\\n His Excellency Lukas Parizek\\nDeputy Minister of Foreign Affairs\\n\\n\\n \\n\\n\\nSLOVENIA\\n\\n\\n His Excellency Miroslav Cerar\\nDeputy Prime Minister and Minister of Foreign Affairs\\n\\n\\n \\n\\n\\nSOMALIA\\n\\n\\n Minister Abdulkadir Kheyr Abdi\\nState Minister for Foreign Affairs and International Cooperation\\n\\n\\n \\n\\n\\nSPAIN\\n\\n\\n His Excellency Fernando Valenzuela\\nSecretary of State for Foreign Affairs\\n\\n\\n \\n\\n\\nSWEDEN\\n\\n\\n Her Excellency Elisabeth Margot Wallström\\nMinister for Foreign Affairs\\n\\n\\n \\n\\n\\nTAIWAN\\n\\n\\n The Honorable Stanley Kao\\nRepresentative of Taiwan\\n\\n\\n \\n\\n\\nTUNISIA\\n\\n\\n His Excellency Fayçal Gouia\\nAmbassador of Tunisia to the United States\\n\\n\\n \\n\\n\\nTURKEY\\n\\n\\n His Excellency Mevlüt Çavusoğlu\\nMinister of Foreign Affairs\\n\\n\\n \\n\\n\\nUKRAINE\\n\\n\\n His Excellency Pavlo Klimkin\\nMinister of Foreign Affairs\\n\\n\\n \\n\\n\\nUNITED ARAB EMIRATES\\n\\n\\n Her Excellency Maitha Salem Omair Al Shamsi\\nMinister of State\\n\\n\\n \\n\\n\\nUNITED KINGDOM\\n\\n\\n The Right Honorable Alistair Burt\\nMinister of State for the Middle East and North Africa\\n\\n\\n \\n\\n\\nUNITED STATES\\n\\n\\nThe Honorable Michael R. Pompeo\\nSecretary of State\\n\\n',\n",
       " 'url': 'https://www.state.gov/r/pa/prs/ps/2019/02/288818.htm',\n",
       " 'scrap_time': '2019-02-07-05 08:20:16'}"
      ]
     },
     "execution_count": 15,
     "metadata": {},
     "output_type": "execute_result"
    }
   ],
   "source": [
    "parse_page('https://www.state.gov/r/pa/prs/ps/2019/02/288818.htm')"
   ]
  },
  {
   "cell_type": "code",
   "execution_count": 14,
   "metadata": {
    "scrolled": true
   },
   "outputs": [
    {
     "data": {
      "text/plain": [
       "{'title': 'U.S. Department of State Launches 22.33: A Podcast of Life-Changing Stories',\n",
       " 'time': 'February 5, 2019',\n",
       " 'content': '\\nThe U.S. Department of State has launched a new podcast, 22.33, that discusses the impact of State Department-sponsored international exchange programs on individuals and communities around the world. Each episode will highlight personal stories from American and foreign exchange program alumni who left home to tackle shared global challenges with their counterparts overseas. These experiences have created ripple effects that continue to influence participants and entire communities.\\n\\n\\nNew episodes of the podcast will be released each Friday throughout 2019. The Collaboratory, an innovation space within the State Department’s Bureau of Educational and Cultural Affairs, has created 22.33 to illustrate the power of exchange programs to meet U.S. foreign policy objectives, told through the stories of individuals. The podcast’s namesake comes from Title 22, Chapter 33 of the U.S. Code, which established U.S. government-funded educational and cultural exchange programs.\\n\\n\\nThe first episodes are now available and can be found at eca.state.gov/2233 or you can subscribe for free on all major podcast platforms. Follow the conversation on social media at #ExchangeOurWorld. For further information, please contact ECA-Press@state.gov.\\n\\n',\n",
       " 'url': 'https://www.state.gov/r/pa/prs/ps/2019/02/288777.htm',\n",
       " 'scrap_time': '2019-02-07-05 08:19:39'}"
      ]
     },
     "execution_count": 14,
     "metadata": {},
     "output_type": "execute_result"
    }
   ],
   "source": [
    "parse_page('https://www.state.gov/r/pa/prs/ps/2019/02/288777.htm')"
   ]
  },
  {
   "cell_type": "code",
   "execution_count": 2,
   "metadata": {
    "scrolled": true
   },
   "outputs": [
    {
     "name": "stdout",
     "output_type": "stream",
     "text": [
      "title : Attack in Giza ..\n",
      "time : December 28, 2018 ..\n",
      "content : \n",
      "The United States strongly condemns the attack carried out today on a tourist bus in Giza. Our deep ..\n",
      "url : https://www.state.gov/r/pa/prs/ps/2018/12/288285.htm ..\n",
      "scrap_time : 2019-02-07-05 08:09:40 ..\n",
      "\n",
      "\n",
      "title : Israel's Right to Self-Defense ..\n",
      "time : December 28, 2018 ..\n",
      "content : \n",
      "The United States fully supports Israel’s right to defend itself against Iranian regional actions t ..\n",
      "url : https://www.state.gov/r/pa/prs/ps/2018/12/288282.htm ..\n",
      "scrap_time : 2019-02-07-05 08:09:41 ..\n",
      "\n",
      "\n",
      "title : Secretary Pompeo Travels to Brazil and Colombia To Strengthen Prosperity, Security, and Democracy ..\n",
      "time : December 28, 2018 ..\n",
      "content : \n",
      "Secretary Pompeo is leading a Presidential Delegation to Brazil for the inauguration of President-e ..\n",
      "url : https://www.state.gov/r/pa/prs/ps/2018/12/288281.htm ..\n",
      "scrap_time : 2019-02-07-05 08:09:41 ..\n",
      "\n",
      "\n",
      "title : Senior State Department Official Previewing Secretary Pompeo's Upcoming Travel to Brazil and Colombi ..\n",
      "time : December 28, 2018 ..\n",
      "content : \n",
      "MODERATOR: Thank you, and good morning, everyone. Thank you for joining us. Welcome to this backgro ..\n",
      "url : https://www.state.gov/r/pa/prs/ps/2018/12/288283.htm ..\n",
      "scrap_time : 2019-02-07-05 08:09:41 ..\n",
      "\n",
      "\n",
      "title : Secretary Pompeo's Trip to Brazil and Colombia ..\n",
      "time : December 27, 2018 ..\n",
      "content : \n",
      "U.S. Secretary of State Michael R. Pompeo will travel to Brazil and Colombia from December 31-Janua ..\n",
      "url : https://www.state.gov/r/pa/prs/ps/2018/12/288279.htm ..\n",
      "scrap_time : 2019-02-07-05 08:09:42 ..\n",
      "\n",
      "\n"
     ]
    }
   ],
   "source": [
    "def pprint(json_object):\n",
    "    for k, v in json_object.items():\n",
    "        print('{} : {} ..'.format(k, str(v)[:100]))\n",
    "    print('\\n')\n",
    "\n",
    "SLEEP = 0.5\n",
    "\n",
    "for url in DoS_urls[:5]:\n",
    "    json_object = parse_page(url)\n",
    "    pprint(json_object)"
   ]
  },
  {
   "cell_type": "code",
   "execution_count": 3,
   "metadata": {},
   "outputs": [
    {
     "name": "stdout",
     "output_type": "stream",
     "text": [
      "[1 / 50] (February 6, 2019) Additional Payments Under Holocaust Deportation Claims Program\n",
      "[2 / 50] (February 6, 2019) Africa Working Group of the U.S.-Morocco Strategic Dialogue\n",
      "[3 / 50] (February 6, 2019) Delivery of Humanitarian Assistance to Rukban\n",
      "[4 / 50] (February 6, 2019) Grenada Independence Day\n",
      "[5 / 50] (February 6, 2019) Interview With Maria Bartiromo of Mornings With Maria on Fox Business Network\n",
      "[6 / 50] (February 6, 2019) Interview With Trish Regan of Trish Regan Primetime on Fox Business Network\n"
     ]
    },
    {
     "ename": "KeyboardInterrupt",
     "evalue": "",
     "output_type": "error",
     "traceback": [
      "\u001b[1;31m---------------------------------------------------------------------------\u001b[0m",
      "\u001b[1;31mKeyboardInterrupt\u001b[0m                         Traceback (most recent call last)",
      "\u001b[1;32m<ipython-input-3-3c7bcea5333b>\u001b[0m in \u001b[0;36m<module>\u001b[1;34m\u001b[0m\n\u001b[0;32m      5\u001b[0m \u001b[0msleep\u001b[0m \u001b[1;33m=\u001b[0m \u001b[1;36m1.0\u001b[0m\u001b[1;33m\u001b[0m\u001b[1;33m\u001b[0m\u001b[0m\n\u001b[0;32m      6\u001b[0m \u001b[1;33m\u001b[0m\u001b[0m\n\u001b[1;32m----> 7\u001b[1;33m \u001b[1;32mfor\u001b[0m \u001b[0mi\u001b[0m\u001b[1;33m,\u001b[0m \u001b[0mjson_obj\u001b[0m \u001b[1;32min\u001b[0m \u001b[0menumerate\u001b[0m\u001b[1;33m(\u001b[0m\u001b[0myield_latest_allnews\u001b[0m\u001b[1;33m(\u001b[0m\u001b[0mbegin_date\u001b[0m\u001b[1;33m,\u001b[0m \u001b[0mmax_num\u001b[0m\u001b[1;33m,\u001b[0m \u001b[0msleep\u001b[0m\u001b[1;33m)\u001b[0m\u001b[1;33m)\u001b[0m\u001b[1;33m:\u001b[0m\u001b[1;33m\u001b[0m\u001b[1;33m\u001b[0m\u001b[0m\n\u001b[0m\u001b[0;32m      8\u001b[0m     \u001b[0mtitle\u001b[0m \u001b[1;33m=\u001b[0m \u001b[0mjson_obj\u001b[0m\u001b[1;33m[\u001b[0m\u001b[1;34m'title'\u001b[0m\u001b[1;33m]\u001b[0m\u001b[1;33m\u001b[0m\u001b[1;33m\u001b[0m\u001b[0m\n\u001b[0;32m      9\u001b[0m     \u001b[0mtime\u001b[0m \u001b[1;33m=\u001b[0m \u001b[0mjson_obj\u001b[0m\u001b[1;33m[\u001b[0m\u001b[1;34m'time'\u001b[0m\u001b[1;33m]\u001b[0m\u001b[1;33m\u001b[0m\u001b[1;33m\u001b[0m\u001b[0m\n",
      "\u001b[1;32m~\\Documents\\github\\DoS_scraper\\DoS_scraper\\scraper.py\u001b[0m in \u001b[0;36myield_latest_allnews\u001b[1;34m(begin_date, max_num, sleep)\u001b[0m\n\u001b[0;32m    110\u001b[0m             \u001b[1;32mif\u001b[0m \u001b[0mn_news\u001b[0m \u001b[1;33m>=\u001b[0m \u001b[0mmax_num\u001b[0m\u001b[1;33m:\u001b[0m\u001b[1;33m\u001b[0m\u001b[1;33m\u001b[0m\u001b[0m\n\u001b[0;32m    111\u001b[0m                 \u001b[1;32mbreak\u001b[0m\u001b[1;33m\u001b[0m\u001b[1;33m\u001b[0m\u001b[0m\n\u001b[1;32m--> 112\u001b[1;33m             \u001b[0mtime\u001b[0m\u001b[1;33m.\u001b[0m\u001b[0msleep\u001b[0m\u001b[1;33m(\u001b[0m\u001b[0msleep\u001b[0m\u001b[1;33m)\u001b[0m\u001b[1;33m\u001b[0m\u001b[1;33m\u001b[0m\u001b[0m\n\u001b[0m",
      "\u001b[1;31mKeyboardInterrupt\u001b[0m: "
     ]
    }
   ],
   "source": [
    "from DoS_scraper import yield_latest_allnews\n",
    "\n",
    "begin_date = '2018-12-01'\n",
    "max_num = 50\n",
    "sleep = 1.0\n",
    "\n",
    "for i, json_obj in enumerate(yield_latest_allnews(begin_date, max_num, sleep)):\n",
    "    title = json_obj['title']\n",
    "    time = json_obj['time']\n",
    "    print('[{} / {}] ({}) {}'.format(i+1, max_num, time, title))"
   ]
  }
 ],
 "metadata": {
  "kernelspec": {
   "display_name": "Python 3",
   "language": "python",
   "name": "python3"
  },
  "language_info": {
   "codemirror_mode": {
    "name": "ipython",
    "version": 3
   },
   "file_extension": ".py",
   "mimetype": "text/x-python",
   "name": "python",
   "nbconvert_exporter": "python",
   "pygments_lexer": "ipython3",
   "version": "3.7.1"
  },
  "varInspector": {
   "cols": {
    "lenName": 16,
    "lenType": 16,
    "lenVar": 40
   },
   "kernels_config": {
    "python": {
     "delete_cmd_postfix": "",
     "delete_cmd_prefix": "del ",
     "library": "var_list.py",
     "varRefreshCmd": "print(var_dic_list())"
    },
    "r": {
     "delete_cmd_postfix": ") ",
     "delete_cmd_prefix": "rm(",
     "library": "var_list.r",
     "varRefreshCmd": "cat(var_dic_list()) "
    }
   },
   "oldHeight": 122.545454,
   "position": {
    "height": "144px",
    "left": "1021.45px",
    "right": "20px",
    "top": "89px",
    "width": "249px"
   },
   "types_to_exclude": [
    "module",
    "function",
    "builtin_function_or_method",
    "instance",
    "_Feature"
   ],
   "varInspector_section_display": "block",
   "window_display": true
  }
 },
 "nbformat": 4,
 "nbformat_minor": 2
}
