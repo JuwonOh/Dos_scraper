{
 "cells": [
  {
   "cell_type": "code",
   "execution_count": 1,
   "metadata": {
    "scrolled": true
   },
   "outputs": [
    {
     "name": "stdout",
     "output_type": "stream",
     "text": [
      "get briefing statement urls 2018 / 2019\n",
      "1790 urls for all news\n"
     ]
    }
   ],
   "source": [
    "import time\n",
    "import DoS_scraper\n",
    "from DoS_scraper import get_allnews_urls\n",
    "from DoS_scraper import parse_page\n",
    "from DoS_scraper import get_soup\n",
    "\n",
    "DoS_urls = get_allnews_urls(begin_year=2018, end_year=2019, verbose=True)\n",
    "print('%d urls for all news' % len(DoS_urls))\n"
   ]
  },
  {
   "cell_type": "code",
   "execution_count": 2,
   "metadata": {
    "scrolled": true
   },
   "outputs": [
    {
     "name": "stdout",
     "output_type": "stream",
     "text": [
      "title : Attack in Giza ..\n",
      "time : December 28, 2018 ..\n",
      "content : \n",
      "The United States strongly condemns the attack carried out today on a tourist bus in Giza. Our deep ..\n",
      "url : https://www.state.gov/r/pa/prs/ps/2018/12/288285.htm ..\n",
      "scrap_time : 2019-01-29-04 12:35:32 ..\n",
      "\n",
      "\n",
      "title : Israel's Right to Self-Defense ..\n",
      "time : December 28, 2018 ..\n",
      "content : \n",
      "The United States fully supports Israel’s right to defend itself against Iranian regional actions t ..\n",
      "url : https://www.state.gov/r/pa/prs/ps/2018/12/288282.htm ..\n",
      "scrap_time : 2019-01-29-04 12:35:33 ..\n",
      "\n",
      "\n",
      "title : Secretary Pompeo Travels to Brazil and Colombia To Strengthen Prosperity, Security, and Democracy ..\n",
      "time : December 28, 2018 ..\n",
      "content : \n",
      "Secretary Pompeo is leading a Presidential Delegation to Brazil for the inauguration of President-e ..\n",
      "url : https://www.state.gov/r/pa/prs/ps/2018/12/288281.htm ..\n",
      "scrap_time : 2019-01-29-04 12:35:34 ..\n",
      "\n",
      "\n",
      "title : Senior State Department Official Previewing Secretary Pompeo's Upcoming Travel to Brazil and Colombi ..\n",
      "time : December 28, 2018 ..\n",
      "content : \n",
      "MODERATOR: Thank you, and good morning, everyone. Thank you for joining us. Welcome to this backgro ..\n",
      "url : https://www.state.gov/r/pa/prs/ps/2018/12/288283.htm ..\n",
      "scrap_time : 2019-01-29-04 12:35:35 ..\n",
      "\n",
      "\n",
      "title : Secretary Pompeo's Trip to Brazil and Colombia ..\n",
      "time : December 27, 2018 ..\n",
      "content : \n",
      "U.S. Secretary of State Michael R. Pompeo will travel to Brazil and Colombia from December 31-Janua ..\n",
      "url : https://www.state.gov/r/pa/prs/ps/2018/12/288279.htm ..\n",
      "scrap_time : 2019-01-29-04 12:35:35 ..\n",
      "\n",
      "\n",
      "title : Tsunami in West Java and Southern Sumatra, Indonesia ..\n",
      "time : December 23, 2018 ..\n",
      "content : \n",
      "The United States conveys our deepest condolences for the loss of life and destruction from the tsu ..\n",
      "url : https://www.state.gov/r/pa/prs/ps/2018/12/288266.htm ..\n",
      "scrap_time : 2019-01-29-04 12:35:36 ..\n",
      "\n",
      "\n",
      "title : Venezuelan Navy Actions in Guyana ..\n",
      "time : December 23, 2018 ..\n",
      "content : \n",
      "On December 22, the Venezuelan Navy aggressively stopped ExxonMob‎il contracted vessels operating u ..\n",
      "url : https://www.state.gov/r/pa/prs/ps/2018/12/288267.htm ..\n",
      "scrap_time : 2019-01-29-04 12:35:37 ..\n",
      "\n",
      "\n",
      "title : Canada's Legitimate Arrest of Huawei CFO Meng Wanzhou ..\n",
      "time : December 21, 2018 ..\n",
      "content : \n",
      "Canada, a country governed by the rule of law, is conducting a fair, unbiased, and transparent lega ..\n",
      "url : https://www.state.gov/r/pa/prs/ps/2018/12/288250.htm ..\n",
      "scrap_time : 2019-01-29-04 12:35:39 ..\n",
      "\n",
      "\n",
      "title : Increasing U.S. Security Assistance to Ukraine's Navy ..\n",
      "time : December 21, 2018 ..\n",
      "content : \n",
      "In response to Russia’s dangerous escalation and unjustified November 25 attack on three Ukrainian  ..\n",
      "url : https://www.state.gov/r/pa/prs/ps/2018/12/288264.htm ..\n",
      "scrap_time : 2019-01-29-04 12:35:40 ..\n",
      "\n",
      "\n",
      "title : Interview With Steve Inskeep of NPR ..\n",
      "time : December 21, 2018 ..\n",
      "content : \n",
      "QUESTION: Thanks very much for taking the time.\n",
      "\n",
      "\n",
      "SECRETARY POMPEO: You bet, Steve.\n",
      "\n",
      "\n",
      "QUESTION: Is  ..\n",
      "url : https://www.state.gov/secretary/remarks/2018/12/288249.htm ..\n",
      "scrap_time : 2019-01-29-04 12:35:42 ..\n",
      "\n",
      "\n"
     ]
    }
   ],
   "source": [
    "def pprint(json_object):\n",
    "    for k, v in json_object.items():\n",
    "        print('{} : {} ..'.format(k, str(v)[:100]))\n",
    "    print('\\n')\n",
    "\n",
    "SLEEP = 0.5\n",
    "\n",
    "for url in DoS_urls[:10]:\n",
    "    json_object = parse_page(url)\n",
    "    pprint(json_object)"
   ]
  }
 ],
 "metadata": {
  "kernelspec": {
   "display_name": "Python 3",
   "language": "python",
   "name": "python3"
  },
  "language_info": {
   "codemirror_mode": {
    "name": "ipython",
    "version": 3
   },
   "file_extension": ".py",
   "mimetype": "text/x-python",
   "name": "python",
   "nbconvert_exporter": "python",
   "pygments_lexer": "ipython3",
   "version": "3.6.5"
  },
  "varInspector": {
   "cols": {
    "lenName": 16,
    "lenType": 16,
    "lenVar": 40
   },
   "kernels_config": {
    "python": {
     "delete_cmd_postfix": "",
     "delete_cmd_prefix": "del ",
     "library": "var_list.py",
     "varRefreshCmd": "print(var_dic_list())"
    },
    "r": {
     "delete_cmd_postfix": ") ",
     "delete_cmd_prefix": "rm(",
     "library": "var_list.r",
     "varRefreshCmd": "cat(var_dic_list()) "
    }
   },
   "oldHeight": 122.545454,
   "position": {
    "height": "144px",
    "left": "1021.45px",
    "right": "20px",
    "top": "89px",
    "width": "249px"
   },
   "types_to_exclude": [
    "module",
    "function",
    "builtin_function_or_method",
    "instance",
    "_Feature"
   ],
   "varInspector_section_display": "block",
   "window_display": true
  }
 },
 "nbformat": 4,
 "nbformat_minor": 2
}
